{
  "nbformat": 4,
  "nbformat_minor": 0,
  "metadata": {
    "colab": {
      "provenance": [],
      "authorship_tag": "ABX9TyNnbu0YKbDNTGuKVnQa0yuL",
      "include_colab_link": true
    },
    "kernelspec": {
      "name": "python3",
      "display_name": "Python 3"
    },
    "language_info": {
      "name": "python"
    }
  },
  "cells": [
    {
      "cell_type": "markdown",
      "metadata": {
        "id": "view-in-github",
        "colab_type": "text"
      },
      "source": [
        "<a href=\"https://colab.research.google.com/github/Shubham5787/EDA-Project-Prac/blob/main/listcompre_prac.ipynb\" target=\"_parent\"><img src=\"https://colab.research.google.com/assets/colab-badge.svg\" alt=\"Open In Colab\"/></a>"
      ]
    },
    {
      "cell_type": "code",
      "execution_count": null,
      "metadata": {
        "colab": {
          "base_uri": "https://localhost:8080/"
        },
        "id": "2vNNY7wZgVsW",
        "outputId": "24a8e2de-5546-42dc-b8a9-00e703553f11"
      },
      "outputs": [
        {
          "output_type": "execute_result",
          "data": {
            "text/plain": [
              "[5, 2]"
            ]
          },
          "metadata": {},
          "execution_count": 2
        }
      ],
      "source": [
        "list(range(5,0,-3))"
      ]
    },
    {
      "cell_type": "code",
      "source": [
        "name = \"shubham\"\n",
        "for i in name :\n",
        "  print(i,end = \"\")"
      ],
      "metadata": {
        "colab": {
          "base_uri": "https://localhost:8080/"
        },
        "id": "LvU1DuEyhNIe",
        "outputId": "1a396de5-c9ea-4b9d-f026-18921da4f302"
      },
      "execution_count": null,
      "outputs": [
        {
          "output_type": "stream",
          "name": "stdout",
          "text": [
            "shubham"
          ]
        }
      ]
    },
    {
      "cell_type": "code",
      "source": [
        "if 'y' in z :\n",
        "  print('i am present')"
      ],
      "metadata": {
        "colab": {
          "base_uri": "https://localhost:8080/"
        },
        "id": "5TeoCQLbnyKa",
        "outputId": "4bb70457-c9ab-4cc7-f518-995058556d0a"
      },
      "execution_count": null,
      "outputs": [
        {
          "output_type": "stream",
          "name": "stdout",
          "text": [
            "i am present\n"
          ]
        }
      ]
    },
    {
      "cell_type": "code",
      "source": [
        "z = \"xyz\""
      ],
      "metadata": {
        "id": "uj7vk4A3oi33"
      },
      "execution_count": null,
      "outputs": []
    },
    {
      "cell_type": "code",
      "source": [
        "a = \"123789\"  \n",
        "while x in a:  \n",
        "    print(x, end=\" \")  "
      ],
      "metadata": {
        "colab": {
          "base_uri": "https://localhost:8080/",
          "height": 200
        },
        "id": "7zm4rovpopET",
        "outputId": "8439f4b5-79e9-456a-d307-19a6bfd12d13"
      },
      "execution_count": null,
      "outputs": [
        {
          "output_type": "error",
          "ename": "TypeError",
          "evalue": "ignored",
          "traceback": [
            "\u001b[0;31m---------------------------------------------------------------------------\u001b[0m",
            "\u001b[0;31mTypeError\u001b[0m                                 Traceback (most recent call last)",
            "\u001b[0;32m<ipython-input-24-09c82ac4d071>\u001b[0m in \u001b[0;36m<module>\u001b[0;34m\u001b[0m\n\u001b[1;32m      1\u001b[0m \u001b[0ma\u001b[0m \u001b[0;34m=\u001b[0m \u001b[0;34m\"123789\"\u001b[0m\u001b[0;34m\u001b[0m\u001b[0;34m\u001b[0m\u001b[0m\n\u001b[0;32m----> 2\u001b[0;31m \u001b[0;32mwhile\u001b[0m \u001b[0mx\u001b[0m \u001b[0;32min\u001b[0m \u001b[0ma\u001b[0m\u001b[0;34m:\u001b[0m\u001b[0;34m\u001b[0m\u001b[0;34m\u001b[0m\u001b[0m\n\u001b[0m\u001b[1;32m      3\u001b[0m     \u001b[0mprint\u001b[0m\u001b[0;34m(\u001b[0m\u001b[0mx\u001b[0m\u001b[0;34m,\u001b[0m \u001b[0mend\u001b[0m\u001b[0;34m=\u001b[0m\u001b[0;34m\" \"\u001b[0m\u001b[0;34m)\u001b[0m\u001b[0;34m\u001b[0m\u001b[0;34m\u001b[0m\u001b[0m\n",
            "\u001b[0;31mTypeError\u001b[0m: 'in <string>' requires string as left operand, not int"
          ]
        }
      ]
    },
    {
      "cell_type": "code",
      "source": [
        "for i in range(int(float('inf'))):\n",
        "  print(i)"
      ],
      "metadata": {
        "colab": {
          "base_uri": "https://localhost:8080/",
          "height": 182
        },
        "id": "qxDra_sfpE79",
        "outputId": "652f790d-0a19-4274-d2fa-d3a0e4381eb8"
      },
      "execution_count": null,
      "outputs": [
        {
          "output_type": "error",
          "ename": "OverflowError",
          "evalue": "ignored",
          "traceback": [
            "\u001b[0;31m---------------------------------------------------------------------------\u001b[0m",
            "\u001b[0;31mOverflowError\u001b[0m                             Traceback (most recent call last)",
            "\u001b[0;32m<ipython-input-25-70783521e873>\u001b[0m in \u001b[0;36m<module>\u001b[0;34m\u001b[0m\n\u001b[0;32m----> 1\u001b[0;31m \u001b[0;32mfor\u001b[0m \u001b[0mi\u001b[0m \u001b[0;32min\u001b[0m \u001b[0mrange\u001b[0m\u001b[0;34m(\u001b[0m\u001b[0mint\u001b[0m\u001b[0;34m(\u001b[0m\u001b[0mfloat\u001b[0m\u001b[0;34m(\u001b[0m\u001b[0;34m'inf'\u001b[0m\u001b[0;34m)\u001b[0m\u001b[0;34m)\u001b[0m\u001b[0;34m)\u001b[0m\u001b[0;34m:\u001b[0m\u001b[0;34m\u001b[0m\u001b[0;34m\u001b[0m\u001b[0m\n\u001b[0m\u001b[1;32m      2\u001b[0m   \u001b[0mprint\u001b[0m\u001b[0;34m(\u001b[0m\u001b[0mi\u001b[0m\u001b[0;34m)\u001b[0m\u001b[0;34m\u001b[0m\u001b[0;34m\u001b[0m\u001b[0m\n",
            "\u001b[0;31mOverflowError\u001b[0m: cannot convert float infinity to integer"
          ]
        }
      ]
    },
    {
      "cell_type": "code",
      "source": [
        "list(range(2.0))"
      ],
      "metadata": {
        "colab": {
          "base_uri": "https://localhost:8080/",
          "height": 165
        },
        "id": "unqPVHqwrdud",
        "outputId": "7264f49d-d64a-4e53-e3ff-933fd7aa52bd"
      },
      "execution_count": null,
      "outputs": [
        {
          "output_type": "error",
          "ename": "TypeError",
          "evalue": "ignored",
          "traceback": [
            "\u001b[0;31m---------------------------------------------------------------------------\u001b[0m",
            "\u001b[0;31mTypeError\u001b[0m                                 Traceback (most recent call last)",
            "\u001b[0;32m<ipython-input-27-a9c6fedcbb42>\u001b[0m in \u001b[0;36m<module>\u001b[0;34m\u001b[0m\n\u001b[0;32m----> 1\u001b[0;31m \u001b[0mlist\u001b[0m\u001b[0;34m(\u001b[0m\u001b[0mrange\u001b[0m\u001b[0;34m(\u001b[0m\u001b[0;36m2.0\u001b[0m\u001b[0;34m)\u001b[0m\u001b[0;34m)\u001b[0m\u001b[0;34m\u001b[0m\u001b[0;34m\u001b[0m\u001b[0m\n\u001b[0m",
            "\u001b[0;31mTypeError\u001b[0m: 'float' object cannot be interpreted as an integer"
          ]
        }
      ]
    },
    {
      "cell_type": "code",
      "source": [
        "x = 'abcd'\n",
        "for i in x :\n",
        "  print(i)\n",
        "  x.upper()"
      ],
      "metadata": {
        "colab": {
          "base_uri": "https://localhost:8080/"
        },
        "id": "jXwpFEEOrimN",
        "outputId": "63fc760b-3542-49cd-d6e2-6244bddaa8c1"
      },
      "execution_count": null,
      "outputs": [
        {
          "output_type": "stream",
          "name": "stdout",
          "text": [
            "a\n",
            "b\n",
            "c\n",
            "d\n"
          ]
        }
      ]
    },
    {
      "cell_type": "code",
      "source": [
        "i = 1\n",
        "while False:\n",
        "  if i%2==0:\n",
        "    break\n",
        "    print(i)\n",
        "    i=i+2"
      ],
      "metadata": {
        "id": "O-HsNf2lr0TS"
      },
      "execution_count": null,
      "outputs": []
    },
    {
      "cell_type": "code",
      "source": [
        "dict1 = {'name': 'shubham' , 'class':'be'}\n",
        "for i in dict1:\n",
        "  print(i)"
      ],
      "metadata": {
        "colab": {
          "base_uri": "https://localhost:8080/"
        },
        "id": "G-qLOFqTsF-J",
        "outputId": "5e49bc58-606f-464a-d2a1-aa2f24b109a3"
      },
      "execution_count": null,
      "outputs": [
        {
          "output_type": "stream",
          "name": "stdout",
          "text": [
            "name\n",
            "class\n"
          ]
        }
      ]
    },
    {
      "cell_type": "code",
      "source": [
        "list_of_numbers = [1,2,3,4,5]\n",
        "squared_numbers = [number**2 for number in list_of_numbers]\n",
        "print(squared_numbers)"
      ],
      "metadata": {
        "colab": {
          "base_uri": "https://localhost:8080/"
        },
        "id": "DWtc3z7Esgsc",
        "outputId": "b6751dae-83db-42d9-e659-a5a293ba5d28"
      },
      "execution_count": null,
      "outputs": [
        {
          "output_type": "stream",
          "name": "stdout",
          "text": [
            "[1, 4, 9, 16, 25]\n"
          ]
        }
      ]
    },
    {
      "cell_type": "code",
      "source": [
        "list2 = list_of_numbers\n",
        "for i in list2 :\n",
        "  if i%2 == 0:\n",
        "    print(i**2)\n",
        "  else:\n",
        "    print(i)"
      ],
      "metadata": {
        "colab": {
          "base_uri": "https://localhost:8080/"
        },
        "id": "aV2SDRZCwKof",
        "outputId": "a593de8a-190a-4938-c6a8-eea541105eb3"
      },
      "execution_count": null,
      "outputs": [
        {
          "output_type": "stream",
          "name": "stdout",
          "text": [
            "1\n",
            "4\n",
            "3\n",
            "16\n",
            "5\n"
          ]
        }
      ]
    },
    {
      "cell_type": "code",
      "source": [
        "new_numbers = [number**2 if number%2!=0  else number**3 for number in list_of_numbers ]\n",
        "print(new_numbers)"
      ],
      "metadata": {
        "colab": {
          "base_uri": "https://localhost:8080/"
        },
        "id": "W9qhzPMYw8nn",
        "outputId": "076b5110-0b49-43e0-a179-19e7386767da"
      },
      "execution_count": null,
      "outputs": [
        {
          "output_type": "stream",
          "name": "stdout",
          "text": [
            "[1, 8, 9, 64, 25]\n"
          ]
        }
      ]
    },
    {
      "cell_type": "code",
      "source": [
        "list3 = [1,5,6,7,8,9]\n",
        "list0 = [number*2 if number%2 !=0 else number*3 for number in list3]\n",
        "print(list0)"
      ],
      "metadata": {
        "colab": {
          "base_uri": "https://localhost:8080/"
        },
        "id": "ULscF8RGxenp",
        "outputId": "67023e4b-48fd-49e9-9f1f-92b722a61bd6"
      },
      "execution_count": null,
      "outputs": [
        {
          "output_type": "stream",
          "name": "stdout",
          "text": [
            "[2, 10, 18, 14, 24, 18]\n"
          ]
        }
      ]
    },
    {
      "cell_type": "code",
      "source": [
        "even_squared_numbers = []\n",
        "\n",
        "for number in list_of_numbers:\n",
        "  if number%2 == 0:\n",
        "    squared_numbers = number**2\n",
        "    even_squared_numbers.append(squared_numbers)\n",
        "print(even_squared_numbers)"
      ],
      "metadata": {
        "colab": {
          "base_uri": "https://localhost:8080/"
        },
        "id": "jqtBI1Rny9sx",
        "outputId": "b2bb1936-d8b2-43bc-b184-d7fc658052ec"
      },
      "execution_count": null,
      "outputs": [
        {
          "output_type": "stream",
          "name": "stdout",
          "text": [
            "[4, 16]\n"
          ]
        }
      ]
    },
    {
      "cell_type": "code",
      "source": [
        "list_of_numbers = []\n",
        "\n",
        "for num1 in range(4): \n",
        "  for num2 in range(3):\n",
        "    # print(num1,num2)\n",
        "    list_of_numbers.append(num2)\n",
        "\n",
        "print(list_of_numbers)"
      ],
      "metadata": {
        "colab": {
          "base_uri": "https://localhost:8080/"
        },
        "id": "CXuu3Kw9zjnf",
        "outputId": "0e8f679e-32ce-4710-de59-d68951d4fd27"
      },
      "execution_count": null,
      "outputs": [
        {
          "output_type": "stream",
          "name": "stdout",
          "text": [
            "[0, 1, 2, 0, 1, 2, 0, 1, 2, 0, 1, 2]\n"
          ]
        }
      ]
    },
    {
      "cell_type": "code",
      "source": [
        "for num1 in range(4):\n",
        "  for num2 in range(3):\n",
        "    print(num1**2)"
      ],
      "metadata": {
        "colab": {
          "base_uri": "https://localhost:8080/"
        },
        "id": "JXOGNDqm2DzF",
        "outputId": "d0330f09-ed10-4eac-f8eb-bdefa2d3fcd6"
      },
      "execution_count": null,
      "outputs": [
        {
          "output_type": "stream",
          "name": "stdout",
          "text": [
            "0\n",
            "0\n",
            "0\n",
            "1\n",
            "1\n",
            "1\n",
            "4\n",
            "4\n",
            "4\n",
            "9\n",
            "9\n",
            "9\n"
          ]
        }
      ]
    },
    {
      "cell_type": "code",
      "source": [
        "list_of_numbers = [num1 for num1 in range(4) for num2 in range(3)]\n",
        "print(list_of_numbers)"
      ],
      "metadata": {
        "colab": {
          "base_uri": "https://localhost:8080/"
        },
        "id": "v7BiDgs_5FyX",
        "outputId": "dd51863b-13f6-4537-995c-b19b600c9f26"
      },
      "execution_count": null,
      "outputs": [
        {
          "output_type": "stream",
          "name": "stdout",
          "text": [
            "[0, 0, 0, 1, 1, 1, 2, 2, 2, 3, 3, 3]\n"
          ]
        }
      ]
    },
    {
      "cell_type": "code",
      "source": [
        "list_of_lists = []\n",
        "\n",
        "for num1 in range(4):\n",
        "  # Append an empty sublist inside the list \n",
        "  list_of_lists.append([])\n",
        "print(list_of_lists)"
      ],
      "metadata": {
        "colab": {
          "base_uri": "https://localhost:8080/"
        },
        "id": "mYUB4zjB5RvJ",
        "outputId": "fe16080a-1a00-414f-ff7e-abcaabcf6c4f"
      },
      "execution_count": null,
      "outputs": [
        {
          "output_type": "stream",
          "name": "stdout",
          "text": [
            "[[], [], [], []]\n"
          ]
        }
      ]
    },
    {
      "cell_type": "code",
      "source": [
        "list_of_lists = []\n",
        "\n",
        "for num1 in range(4):\n",
        "  # Append an empty sublist inside the list \n",
        "  list_of_lists.append([])  # [[0]] , list_of_lists[1]\n",
        "  # print(list_of_lists)\n",
        "\n",
        "  for num2 in range(3):\n",
        "    # Append the elements within the sublist\n",
        "    list_of_lists.append(num2)\n",
        "print(list_of_lists)"
      ],
      "metadata": {
        "colab": {
          "base_uri": "https://localhost:8080/"
        },
        "id": "THtmRlB--V-7",
        "outputId": "d0862b3d-862b-4a35-c8f9-644f74683c2e"
      },
      "execution_count": null,
      "outputs": [
        {
          "output_type": "stream",
          "name": "stdout",
          "text": [
            "[[], 0, 1, 2, [], 0, 1, 2, [], 0, 1, 2, [], 0, 1, 2]\n"
          ]
        }
      ]
    },
    {
      "cell_type": "code",
      "source": [
        "#comprehension using if / else \n",
        "list_of_cubes = [number**3 if number%2==0 else number**2 for number in range(10)]\n",
        "print(list_of_cubes)\n"
      ],
      "metadata": {
        "id": "J8hwWBV8_55n",
        "colab": {
          "base_uri": "https://localhost:8080/"
        },
        "outputId": "96f8e792-25f5-4f3c-c0f0-2f82d48882d9"
      },
      "execution_count": null,
      "outputs": [
        {
          "output_type": "stream",
          "name": "stdout",
          "text": [
            "[0, 1, 8, 9, 64, 25, 216, 49, 512, 81]\n"
          ]
        }
      ]
    },
    {
      "cell_type": "code",
      "source": [
        "#nested loops in comprehension\n",
        "list_of_squares = [[number1**2 for number1 in range(4)] for number2 in range(3)]\n",
        "print(list_of_squares)"
      ],
      "metadata": {
        "colab": {
          "base_uri": "https://localhost:8080/"
        },
        "id": "QfJoLFp09BKB",
        "outputId": "dc8eed9b-bb9e-4bc7-d615-e9cc7b88b4ba"
      },
      "execution_count": null,
      "outputs": [
        {
          "output_type": "stream",
          "name": "stdout",
          "text": [
            "[[0, 1, 4, 9], [0, 1, 4, 9], [0, 1, 4, 9]]\n"
          ]
        }
      ]
    },
    {
      "cell_type": "code",
      "source": [
        "for num1 in range(5):\n",
        "  for num2 in range(num1):\n",
        "    print('*',end=\"\")\n",
        "  print()\n"
      ],
      "metadata": {
        "colab": {
          "base_uri": "https://localhost:8080/"
        },
        "id": "aIiTYw_9-zPP",
        "outputId": "09f1e80a-a42c-4f16-b0b0-17be8e543e28"
      },
      "execution_count": null,
      "outputs": [
        {
          "output_type": "stream",
          "name": "stdout",
          "text": [
            "\n",
            "*\n",
            "**\n",
            "***\n",
            "****\n"
          ]
        }
      ]
    },
    {
      "cell_type": "code",
      "source": [
        "heisenberg_quote = \"It ceases to exist without me. No, you clearly don't know who you're talking to, so let me clue you in. I am not in danger, Skyler. I am the danger.\""
      ],
      "metadata": {
        "id": "PFRgt9gdFOgB"
      },
      "execution_count": null,
      "outputs": []
    },
    {
      "cell_type": "code",
      "source": [
        "first_word=[]\n",
        "#to get the first letter of word form the above sentence\n",
        "split_word_list = heisenberg_quote.split(' ')\n",
        "for word in split_word_list:\n",
        "  first_word.append(word[0])\n",
        "print(first_word)"
      ],
      "metadata": {
        "colab": {
          "base_uri": "https://localhost:8080/"
        },
        "id": "fJsnFW3-FT-P",
        "outputId": "afda458b-97b9-4e66-eeb4-b0a1a80d2e2e"
      },
      "execution_count": null,
      "outputs": [
        {
          "output_type": "stream",
          "name": "stdout",
          "text": [
            "['I', 'c', 't', 'e', 'w', 'm', 'N', 'y', 'c', 'd', 'k', 'w', 'y', 't', 't', 's', 'l', 'm', 'c', 'y', 'i', 'I', 'a', 'n', 'i', 'd', 'S', 'I', 'a', 't', 'd']\n"
          ]
        }
      ]
    },
    {
      "cell_type": "code",
      "source": [
        "#by using list comprehension\n",
        "first_word_of_letter=[words[0] for words in split_word_list]\n",
        "print(first_word_of_letter)"
      ],
      "metadata": {
        "colab": {
          "base_uri": "https://localhost:8080/"
        },
        "id": "sPArLrMcF6m_",
        "outputId": "d3069332-bb92-4a2b-f84a-0c6c04d216f2"
      },
      "execution_count": null,
      "outputs": [
        {
          "output_type": "stream",
          "name": "stdout",
          "text": [
            "['I', 'c', 't', 'e', 'w', 'm', 'N', 'y', 'c', 'd', 'k', 'w', 'y', 't', 't', 's', 'l', 'm', 'c', 'y', 'i', 'I', 'a', 'n', 'i', 'd', 'S', 'I', 'a', 't', 'd']\n"
          ]
        }
      ]
    },
    {
      "cell_type": "code",
      "source": [
        "#appending all letters in list\n",
        "name = 'shubham'\n",
        "list_of_letters = [letter for letter in name ]\n",
        "print(list_of_letters)"
      ],
      "metadata": {
        "colab": {
          "base_uri": "https://localhost:8080/"
        },
        "id": "nl-igO8-GoVR",
        "outputId": "f6c60e4e-9f7a-4e77-b0bb-9f1c3c1a854e"
      },
      "execution_count": null,
      "outputs": [
        {
          "output_type": "stream",
          "name": "stdout",
          "text": [
            "['s', 'h', 'u', 'b', 'h', 'a', 'm']\n"
          ]
        }
      ]
    },
    {
      "cell_type": "code",
      "source": [
        "days_without_day =[day[:-3] for day in days]\n",
        "print(days_without_day)"
      ],
      "metadata": {
        "colab": {
          "base_uri": "https://localhost:8080/"
        },
        "id": "WHc_fPQlHMM7",
        "outputId": "756a30ec-40f0-4a64-e6fb-6a6e6a3627b7"
      },
      "execution_count": null,
      "outputs": [
        {
          "output_type": "stream",
          "name": "stdout",
          "text": [
            "['Mon', 'Tues', 'Wednes', 'Thurs', 'Fri', 'Satur', 'Sun']\n"
          ]
        }
      ]
    },
    {
      "cell_type": "code",
      "source": [
        "days = ('Monday' ,'Tuesday' ,'Wednesday' ,'Thursday' ,'Friday','Saturday','Sunday')"
      ],
      "metadata": {
        "id": "Wl4AVEhIIVqD"
      },
      "execution_count": null,
      "outputs": []
    },
    {
      "cell_type": "code",
      "source": [
        "country_city_river = [['india','Austrialia','newzealand'],['nira','misissipi','no river'],['pune','melbourne','adelade']]"
      ],
      "metadata": {
        "id": "NpXWUrAXJGeE"
      },
      "execution_count": null,
      "outputs": []
    },
    {
      "cell_type": "code",
      "source": [
        "for country,river,city in country_city_river:\n",
        "  print(river)"
      ],
      "metadata": {
        "colab": {
          "base_uri": "https://localhost:8080/"
        },
        "id": "V7WiRA0fJk_7",
        "outputId": "9b616931-2232-43f9-f4d5-fcd831d8db76"
      },
      "execution_count": null,
      "outputs": [
        {
          "output_type": "stream",
          "name": "stdout",
          "text": [
            "Austrialia\n",
            "misissipi\n",
            "melbourne\n"
          ]
        }
      ]
    },
    {
      "cell_type": "code",
      "source": [
        "country_city_list = dict([('India','New Delhi'),('Australia','Canberra'),('United States','Washington DC'),('England','London')])"
      ],
      "metadata": {
        "id": "VvVeJDV5Jte5"
      },
      "execution_count": null,
      "outputs": []
    },
    {
      "cell_type": "code",
      "source": [
        "dict_country_city = dict(country_city_list).items()"
      ],
      "metadata": {
        "id": "026T5d3ZKyEU"
      },
      "execution_count": null,
      "outputs": []
    },
    {
      "cell_type": "code",
      "source": [
        "for country,city in dict_country_city:\n",
        "  country=city\n",
        "  print(country,country)\n",
        "\n",
        "  "
      ],
      "metadata": {
        "colab": {
          "base_uri": "https://localhost:8080/"
        },
        "id": "llOdkrPBK-ft",
        "outputId": "966ae438-e9c1-4700-ead0-b046daa49305"
      },
      "execution_count": null,
      "outputs": [
        {
          "output_type": "stream",
          "name": "stdout",
          "text": [
            "New Delhi New Delhi\n",
            "Canberra Canberra\n",
            "Washington DC Washington DC\n",
            "London London\n"
          ]
        }
      ]
    },
    {
      "cell_type": "code",
      "source": [
        "name1 = 'shubham'\n",
        "print(name1[:-2])"
      ],
      "metadata": {
        "colab": {
          "base_uri": "https://localhost:8080/"
        },
        "id": "X17D6FlmLEhw",
        "outputId": "e160dfda-8934-4c91-8ed5-d6aafbef4f07"
      },
      "execution_count": null,
      "outputs": [
        {
          "output_type": "stream",
          "name": "stdout",
          "text": [
            "shubh\n"
          ]
        }
      ]
    },
    {
      "cell_type": "code",
      "source": [
        "name_class_dict = {'shubham':'be' , 'satyam':'te' , 'abhishek':'be'}"
      ],
      "metadata": {
        "id": "p98aMzIpO1dS"
      },
      "execution_count": null,
      "outputs": []
    },
    {
      "cell_type": "code",
      "source": [
        "name_class_dict['shubham']"
      ],
      "metadata": {
        "colab": {
          "base_uri": "https://localhost:8080/",
          "height": 36
        },
        "id": "-By7n46vPW_t",
        "outputId": "dc269a17-e72b-4222-ea44-cceba3d1c9f2"
      },
      "execution_count": null,
      "outputs": [
        {
          "output_type": "execute_result",
          "data": {
            "text/plain": [
              "'be'"
            ],
            "application/vnd.google.colaboratory.intrinsic+json": {
              "type": "string"
            }
          },
          "metadata": {},
          "execution_count": 61
        }
      ]
    },
    {
      "cell_type": "code",
      "source": [
        "flipp = {}\n",
        "for country, city in country_city_list.items():\n",
        "    flipp[city] = country\n",
        "\n",
        "print(flipp)"
      ],
      "metadata": {
        "colab": {
          "base_uri": "https://localhost:8080/"
        },
        "id": "nlfPD2sbPZZr",
        "outputId": "0a2a1ff4-28c5-407b-aafd-fbadbb24b4c8"
      },
      "execution_count": null,
      "outputs": [
        {
          "output_type": "stream",
          "name": "stdout",
          "text": [
            "{'New Delhi': 'India', 'Canberra': 'Australia', 'Washington DC': 'United States', 'London': 'England'}\n"
          ]
        }
      ]
    },
    {
      "cell_type": "code",
      "source": [
        "for country in country_city_list:\n",
        "  print(country)"
      ],
      "metadata": {
        "colab": {
          "base_uri": "https://localhost:8080/"
        },
        "id": "siOgTNWbRBRW",
        "outputId": "fdd3fb68-fd36-4e3c-992f-e12db9abf9ed"
      },
      "execution_count": null,
      "outputs": [
        {
          "output_type": "stream",
          "name": "stdout",
          "text": [
            "India\n",
            "Australia\n",
            "United States\n",
            "England\n"
          ]
        }
      ]
    },
    {
      "cell_type": "code",
      "source": [
        "house_area_price_dict = {1056 : 39, 2600 : 120 , 1520 : 95, 1200 : 50, 2700 : 200, 1100 : 40}\n"
      ],
      "metadata": {
        "id": "hrhMCB28R2IR"
      },
      "execution_count": null,
      "outputs": []
    },
    {
      "cell_type": "code",
      "source": [
        "#to get the list of size of houses \n",
        "house_area = list(house_area_price_dict.keys())\n",
        "print(house_area)"
      ],
      "metadata": {
        "colab": {
          "base_uri": "https://localhost:8080/"
        },
        "id": "I3xiHv-vW2wJ",
        "outputId": "6401c668-0fc7-414e-f98e-01a30b0334c7"
      },
      "execution_count": null,
      "outputs": [
        {
          "output_type": "stream",
          "name": "stdout",
          "text": [
            "[1056, 2600, 1520, 1200, 2700, 1100]\n"
          ]
        }
      ]
    },
    {
      "cell_type": "code",
      "source": [
        "rate_based_on = []\n",
        "for size in house_area:\n",
        "  rate_based_on.append(size*0.05 + 10)\n",
        "print(rate_based_on)"
      ],
      "metadata": {
        "colab": {
          "base_uri": "https://localhost:8080/"
        },
        "id": "AVWY_G1kXGSU",
        "outputId": "45858c06-41f7-4d45-8fdf-0b6be6dc28fb"
      },
      "execution_count": null,
      "outputs": [
        {
          "output_type": "stream",
          "name": "stdout",
          "text": [
            "[62.800000000000004, 140.0, 86.0, 70.0, 145.0, 65.0]\n"
          ]
        }
      ]
    },
    {
      "cell_type": "code",
      "source": [
        "rate_of_house = [size*0.05+10 for size in house_area]"
      ],
      "metadata": {
        "id": "PVFTmDK8XcPh"
      },
      "execution_count": null,
      "outputs": []
    },
    {
      "cell_type": "code",
      "source": [
        "print(rate_of_house)"
      ],
      "metadata": {
        "colab": {
          "base_uri": "https://localhost:8080/"
        },
        "id": "_lc2yUzLZDyI",
        "outputId": "3cc2d341-26c1-47f1-be77-1d8c4e44fc57"
      },
      "execution_count": null,
      "outputs": [
        {
          "output_type": "stream",
          "name": "stdout",
          "text": [
            "[62.800000000000004, 140.0, 86.0, 70.0, 145.0, 65.0]\n"
          ]
        }
      ]
    },
    {
      "cell_type": "code",
      "source": [
        "list_of_actual_prices = list(house_area_price_dict.values())\n",
        "print(list_of_actual_prices)"
      ],
      "metadata": {
        "colab": {
          "base_uri": "https://localhost:8080/"
        },
        "id": "fPDqBT_hZJ85",
        "outputId": "8452bfbd-5eb3-42cf-dce5-a9390b7e7ceb"
      },
      "execution_count": null,
      "outputs": [
        {
          "output_type": "stream",
          "name": "stdout",
          "text": [
            "[39, 120, 95, 50, 200, 40]\n"
          ]
        }
      ]
    },
    {
      "cell_type": "code",
      "source": [
        "zipped = list(zip(rate_of_house,list_of_actual_prices))"
      ],
      "metadata": {
        "id": "YfWKqFfsZjmq"
      },
      "execution_count": null,
      "outputs": []
    },
    {
      "cell_type": "code",
      "source": [
        "list_of_square = []\n",
        "for orignal,predicted in zipped:\n",
        "  list_of_square.append((orignal-predicted)**2)\n",
        "print(list_of_square)\n"
      ],
      "metadata": {
        "colab": {
          "base_uri": "https://localhost:8080/"
        },
        "id": "lkWu7pSIZ4YU",
        "outputId": "2a87099d-0c95-4165-e84d-f695f4f13ea0"
      },
      "execution_count": null,
      "outputs": [
        {
          "output_type": "stream",
          "name": "stdout",
          "text": [
            "[566.4400000000002, 400.0, 81.0, 400.0, 3025.0, 625.0]\n"
          ]
        }
      ]
    },
    {
      "cell_type": "code",
      "source": [
        "list_of_diff = [(old-new)**2 for old,new in zipped]\n",
        "print(list_of_diff)\n",
        "\n",
        "\n",
        "\n"
      ],
      "metadata": {
        "colab": {
          "base_uri": "https://localhost:8080/"
        },
        "id": "-6u2VDwEaLz8",
        "outputId": "98150d9a-92d4-496e-a2f6-1ae21e19fdc4"
      },
      "execution_count": null,
      "outputs": [
        {
          "output_type": "stream",
          "name": "stdout",
          "text": [
            "[566.4400000000002, 400.0, 81.0, 400.0, 3025.0, 625.0]\n"
          ]
        }
      ]
    },
    {
      "cell_type": "code",
      "source": [
        "#sigmoid \n",
        "x = [3, 9, 10, -4, -2, 1, 0, 4, 5, 7]"
      ],
      "metadata": {
        "id": "KS9zt8tMcNhN"
      },
      "execution_count": null,
      "outputs": []
    },
    {
      "cell_type": "code",
      "source": [
        "sigmoid_of_x = []\n",
        "for num in x:\n",
        "  sigmoid_of_x.append(1/(1+((2.718)**-num)))\n",
        "print(sigmoid_of_x)"
      ],
      "metadata": {
        "colab": {
          "base_uri": "https://localhost:8080/"
        },
        "id": "UDaJpgg2eWvC",
        "outputId": "fe0bf678-bbc2-4a4e-8567-4b4a66f5e0b0"
      },
      "execution_count": null,
      "outputs": [
        {
          "output_type": "stream",
          "name": "stdout",
          "text": [
            "[0.9525600725169616, 0.9998764902378104, 0.9999545550385778, 0.017993536805962367, 0.1192246961081721, 0.7310381925766541, 0.5, 0.9820064631940376, 0.9933037016996081, 0.9990882879369025]\n"
          ]
        }
      ]
    },
    {
      "cell_type": "code",
      "source": [
        "sigmoid_x = [(1/(1+((2.718)**-num))) for num in x]\n",
        "print(sigmoid_x)"
      ],
      "metadata": {
        "colab": {
          "base_uri": "https://localhost:8080/"
        },
        "id": "cjOYat23fFe8",
        "outputId": "c2c03171-7187-4ed8-db11-fe2cf66b3401"
      },
      "execution_count": null,
      "outputs": [
        {
          "output_type": "stream",
          "name": "stdout",
          "text": [
            "[0.9525600725169616, 0.9998764902378104, 0.9999545550385778, 0.017993536805962367, 0.1192246961081721, 0.7310381925766541, 0.5, 0.9820064631940376, 0.9933037016996081, 0.9990882879369025]\n"
          ]
        }
      ]
    },
    {
      "cell_type": "code",
      "source": [
        "#in list comprehension\n",
        "[True if x > 0 and x < 1 else False for x in sigmoid_of_x]"
      ],
      "metadata": {
        "colab": {
          "base_uri": "https://localhost:8080/"
        },
        "id": "AZbMUHVNgdYy",
        "outputId": "957c63a4-babf-421b-e8f8-a9b4fe2ac64b"
      },
      "execution_count": null,
      "outputs": [
        {
          "output_type": "execute_result",
          "data": {
            "text/plain": [
              "[True, True, True, True, True, True, True, True, True, True]"
            ]
          },
          "metadata": {},
          "execution_count": 96
        }
      ]
    },
    {
      "cell_type": "code",
      "source": [
        "list_of_num = [num for num in sigmoid_x if num > 0.5]\n",
        "print(list_of_num)"
      ],
      "metadata": {
        "colab": {
          "base_uri": "https://localhost:8080/"
        },
        "id": "OI1NP7g6g7qt",
        "outputId": "f26ab159-24de-4d0d-ee02-b90dcb2ba3b5"
      },
      "execution_count": null,
      "outputs": [
        {
          "output_type": "stream",
          "name": "stdout",
          "text": [
            "[0.9525600725169616, 0.9998764902378104, 0.9999545550385778, 0.7310381925766541, 0.9820064631940376, 0.9933037016996081, 0.9990882879369025]\n"
          ]
        }
      ]
    },
    {
      "cell_type": "code",
      "source": [
        "#3 problem"
      ],
      "metadata": {
        "id": "9nTU_zIYidGQ"
      },
      "execution_count": null,
      "outputs": []
    },
    {
      "cell_type": "code",
      "source": [
        "my_sentence = \"I have been walking and running and dancing and smiling and laughing all my life, yet it all seems pointless.\""
      ],
      "metadata": {
        "id": "pTooF3jZirH8"
      },
      "execution_count": null,
      "outputs": []
    },
    {
      "cell_type": "code",
      "source": [
        "new_sentence = list(my_sentence.split(\" \"))\n",
        "new_sentence"
      ],
      "metadata": {
        "colab": {
          "base_uri": "https://localhost:8080/"
        },
        "id": "Pb55ed8Hivpc",
        "outputId": "2696e4eb-4f8d-496b-a045-343ab15c8a78"
      },
      "execution_count": null,
      "outputs": [
        {
          "output_type": "execute_result",
          "data": {
            "text/plain": [
              "['I',\n",
              " 'have',\n",
              " 'been',\n",
              " 'walking',\n",
              " 'and',\n",
              " 'running',\n",
              " 'and',\n",
              " 'dancing',\n",
              " 'and',\n",
              " 'smiling',\n",
              " 'and',\n",
              " 'laughing',\n",
              " 'all',\n",
              " 'my',\n",
              " 'life,',\n",
              " 'yet',\n",
              " 'it',\n",
              " 'all',\n",
              " 'seems',\n",
              " 'pointless.']"
            ]
          },
          "metadata": {},
          "execution_count": 102
        }
      ]
    },
    {
      "cell_type": "code",
      "source": [
        "for words in new_sentence :\n",
        "  if words[-3:]=='ing':\n",
        "    print(words)"
      ],
      "metadata": {
        "colab": {
          "base_uri": "https://localhost:8080/"
        },
        "id": "T7G5NhzJi3as",
        "outputId": "baf3925a-55ea-42be-c6db-c9b113a20e27"
      },
      "execution_count": null,
      "outputs": [
        {
          "output_type": "stream",
          "name": "stdout",
          "text": [
            "walking\n",
            "running\n",
            "dancing\n",
            "smiling\n",
            "laughing\n"
          ]
        }
      ]
    },
    {
      "cell_type": "code",
      "source": [
        "words_end_with = [words for words in new_sentence if words[-3:]=='ing']\n",
        "words_end_with"
      ],
      "metadata": {
        "colab": {
          "base_uri": "https://localhost:8080/"
        },
        "id": "DaR6ITWxjI15",
        "outputId": "3fe6dd5c-ce4d-458f-bbe2-9bf7f9cd7f37"
      },
      "execution_count": null,
      "outputs": [
        {
          "output_type": "execute_result",
          "data": {
            "text/plain": [
              "['walking', 'running', 'dancing', 'smiling', 'laughing']"
            ]
          },
          "metadata": {},
          "execution_count": 110
        }
      ]
    },
    {
      "cell_type": "code",
      "source": [
        "custom_stop_words = [\"hello\",\"good\",\"morning\",\"half\",\"year\"]"
      ],
      "metadata": {
        "id": "umtT4kPFj408"
      },
      "execution_count": null,
      "outputs": []
    },
    {
      "cell_type": "code",
      "source": [
        "stop_words = {\"i\", \"me\", \"my\", \"myself\", \"we\", \"our\", \"ours\", \"ourselves\", \"you\", \"your\", \"yours\", \"yourself\", \n",
        "              \"yourselves\", \"he\", \"him\", \"his\", \"himself\", \"she\", \"her\", \"hers\", \"herself\", \"it\", \"its\", \"itself\",\n",
        "              \"they\", \"them\", \"their\", \"theirs\", \"themselves\", \"what\", \"which\", \"who\", \"whom\", \"this\", \"that\",\n",
        "              \"these\", \"those\", \"am\", \"is\", \"are\", \"was\", \"were\", \"be\", \"been\", \"being\", \"have\", \"has\", \"had\",\n",
        "              \"having\", \"do\", \"does\", \"did\", \"doing\", \"a\", \"an\", \"the\", \"and\", \"but\", \"if\", \"or\", \"because\",\n",
        "              \"as\", \"until\", \"while\", \"of\", \"at\", \"by\", \"for\", \"with\", \"about\", \"against\", \"between\", \"into\",\n",
        "              \"through\", \"during\", \"before\", \"after\", \"above\", \"below\", \"to\", \"from\", \"up\", \"down\", \"in\", \"out\", \n",
        "              \"on\", \"off\", \"over\", \"under\", \"again\", \"further\", \"then\", \"once\", \"here\", \"there\", \"when\", \"where\",\n",
        "              \"why\", \"how\", \"all\", \"any\", \"both\", \"each\", \"few\", \"more\", \"most\", \"other\", \"some\", \"such\", \"no\",\n",
        "              \"nor\", \"not\", \"only\", \"own\", \"same\", \"so\", \"than\", \"too\", \"very\", \"s\", \"t\", \"can\", \"will\", \"just\",\n",
        "              \"don\", \"should\", \"now\"}"
      ],
      "metadata": {
        "id": "W5Rd0-mvl_O0"
      },
      "execution_count": null,
      "outputs": []
    },
    {
      "cell_type": "code",
      "source": [
        "sentence = 'Hello, good morning folks! Today we will announce the half yearly performance results of the company. Due to the ongoing COVID-19 pandemic, our profits have declined by 60% as compared to the last year'\n"
      ],
      "metadata": {
        "id": "zOnL8nY5mGYG"
      },
      "execution_count": null,
      "outputs": []
    },
    {
      "cell_type": "code",
      "source": [
        "new_sen = list(sentence.split(' '))\n",
        "new_sen"
      ],
      "metadata": {
        "colab": {
          "base_uri": "https://localhost:8080/"
        },
        "id": "sxBcblD3mJ0e",
        "outputId": "4c41f088-c9ee-401c-ae10-3ba45d136ae6"
      },
      "execution_count": null,
      "outputs": [
        {
          "output_type": "execute_result",
          "data": {
            "text/plain": [
              "['Hello,',\n",
              " 'good',\n",
              " 'morning',\n",
              " 'folks!',\n",
              " 'Today',\n",
              " 'we',\n",
              " 'will',\n",
              " 'announce',\n",
              " 'the',\n",
              " 'half',\n",
              " 'yearly',\n",
              " 'performance',\n",
              " 'results',\n",
              " 'of',\n",
              " 'the',\n",
              " 'company.',\n",
              " 'Due',\n",
              " 'to',\n",
              " 'the',\n",
              " 'ongoing',\n",
              " 'COVID-19',\n",
              " 'pandemic,',\n",
              " 'our',\n",
              " 'profits',\n",
              " 'have',\n",
              " 'declined',\n",
              " 'by',\n",
              " '60%',\n",
              " 'as',\n",
              " 'compared',\n",
              " 'to',\n",
              " 'the',\n",
              " 'last',\n",
              " 'year']"
            ]
          },
          "metadata": {},
          "execution_count": 116
        }
      ]
    },
    {
      "cell_type": "code",
      "source": [
        "stop_words.update(custom_stop_words)\n",
        "print(stop_words, end=' ')"
      ],
      "metadata": {
        "colab": {
          "base_uri": "https://localhost:8080/"
        },
        "id": "5WDrfI6smYQ9",
        "outputId": "8949fa9e-746b-4c87-c14e-4846abaa5cb9"
      },
      "execution_count": null,
      "outputs": [
        {
          "output_type": "stream",
          "name": "stdout",
          "text": [
            "{'now', 'than', 'some', 'to', 'against', 'an', 'ours', 'yourselves', 'too', 'such', 'few', 'between', 'once', 'all', 'morning', 'whom', 'don', 'good', 'will', 'he', 'there', 'can', 'and', 'out', 'before', 'other', 'should', 'doing', 'has', 'who', 'themselves', 'no', 'these', 'was', 'again', 'she', 'were', 'i', 'their', 'only', 'through', 'why', 'my', 'but', 'under', 'you', 'itself', 'yours', 'if', 'at', 'half', 'in', 'had', 'during', 'do', 'over', 'herself', 'where', 'down', 'both', 'not', 'by', 'does', 'himself', 'him', 'its', 'nor', 'your', 'this', 'yourself', 'that', 'with', 'own', 'our', 's', 'how', 'about', 'then', 'did', 'up', 'same', 'on', 'been', 'his', 'those', 'being', 'having', 'hers', 'here', 'or', 'into', 'me', 'her', 'of', 'is', 'ourselves', 'because', 't', 'just', 'off', 'are', 'it', 'until', 'the', 'very', 'them', 'we', 'further', 'be', 'from', 'each', 'so', 'am', 'hello', 'while', 'below', 'have', 'theirs', 'when', 'what', 'more', 'myself', 'after', 'for', 'which', 'as', 'year', 'they', 'any', 'most', 'a', 'above'} "
          ]
        }
      ]
    },
    {
      "cell_type": "code",
      "source": [
        "new_list_words = [words for words in new_sen if words not in stop_words]\n",
        "print(new_list_words)"
      ],
      "metadata": {
        "colab": {
          "base_uri": "https://localhost:8080/"
        },
        "id": "89cOLsp9mn4P",
        "outputId": "0b2c59ec-c91a-40ae-d5d0-7a7675707926"
      },
      "execution_count": null,
      "outputs": [
        {
          "output_type": "stream",
          "name": "stdout",
          "text": [
            "['Hello,', 'folks!', 'Today', 'announce', 'yearly', 'performance', 'results', 'company.', 'Due', 'ongoing', 'COVID-19', 'pandemic,', 'profits', 'declined', '60%', 'compared', 'last']\n"
          ]
        }
      ]
    },
    {
      "cell_type": "code",
      "source": [
        "sentence = ' '.join(new_list_words)\n",
        "sentence"
      ],
      "metadata": {
        "colab": {
          "base_uri": "https://localhost:8080/",
          "height": 36
        },
        "id": "0R1h9DVVnTpS",
        "outputId": "ea944dfe-6bd3-4b3f-d506-7109c8b3985c"
      },
      "execution_count": null,
      "outputs": [
        {
          "output_type": "execute_result",
          "data": {
            "text/plain": [
              "'Hello, folks! Today announce yearly performance results company. Due ongoing COVID-19 pandemic, profits declined 60% compared last'"
            ],
            "application/vnd.google.colaboratory.intrinsic+json": {
              "type": "string"
            }
          },
          "metadata": {},
          "execution_count": 124
        }
      ]
    },
    {
      "cell_type": "code",
      "source": [
        "number_divisible_by8 = [number for number in range(1,500) if number%8==0]\n",
        "print(number_divisible_by8)"
      ],
      "metadata": {
        "colab": {
          "base_uri": "https://localhost:8080/"
        },
        "id": "FEVEzqo6nvCe",
        "outputId": "aaffa99d-8a54-4221-e8bb-79d0b8cbd0a0"
      },
      "execution_count": null,
      "outputs": [
        {
          "output_type": "stream",
          "name": "stdout",
          "text": [
            "[8, 16, 24, 32, 40, 48, 56, 64, 72, 80, 88, 96, 104, 112, 120, 128, 136, 144, 152, 160, 168, 176, 184, 192, 200, 208, 216, 224, 232, 240, 248, 256, 264, 272, 280, 288, 296, 304, 312, 320, 328, 336, 344, 352, 360, 368, 376, 384, 392, 400, 408, 416, 424, 432, 440, 448, 456, 464, 472, 480, 488, 496]\n"
          ]
        }
      ]
    },
    {
      "cell_type": "code",
      "source": [
        "count_of_spaces = [sentence.count(' ')]"
      ],
      "metadata": {
        "id": "dix3kxU-zJj3"
      },
      "execution_count": null,
      "outputs": []
    },
    {
      "cell_type": "code",
      "source": [
        "sentence = 'Hello, good morning folks! Today we will announce the half yearly performance results of the company. Due to the ongoing COVID-19 pandemic, our profits have declined by 60% as compared to the last year'\n"
      ],
      "metadata": {
        "id": "Cp15GMtq0-Te"
      },
      "execution_count": null,
      "outputs": []
    },
    {
      "cell_type": "code",
      "source": [
        "count_of_spaces"
      ],
      "metadata": {
        "colab": {
          "base_uri": "https://localhost:8080/"
        },
        "id": "IoUeuaTA1AA9",
        "outputId": "9edf73a8-08cd-455c-af84-d200eff2a6c6"
      },
      "execution_count": null,
      "outputs": [
        {
          "output_type": "execute_result",
          "data": {
            "text/plain": [
              "[33]"
            ]
          },
          "metadata": {},
          "execution_count": 8
        }
      ]
    },
    {
      "cell_type": "code",
      "source": [
        "split_words = sentence.split(' ')\n",
        "words_less_than = [words for words in split_words if len(words)<5]"
      ],
      "metadata": {
        "id": "kRgbYaKD1K4i"
      },
      "execution_count": null,
      "outputs": []
    },
    {
      "cell_type": "code",
      "source": [
        "words_less_than"
      ],
      "metadata": {
        "colab": {
          "base_uri": "https://localhost:8080/"
        },
        "id": "I14z-jyx2bd4",
        "outputId": "1926460e-7539-42d0-c1a3-2fee466ccf8f"
      },
      "execution_count": null,
      "outputs": [
        {
          "output_type": "execute_result",
          "data": {
            "text/plain": [
              "['good',\n",
              " 'we',\n",
              " 'will',\n",
              " 'the',\n",
              " 'half',\n",
              " 'of',\n",
              " 'the',\n",
              " 'Due',\n",
              " 'to',\n",
              " 'the',\n",
              " 'our',\n",
              " 'have',\n",
              " 'by',\n",
              " '60%',\n",
              " 'as',\n",
              " 'to',\n",
              " 'the',\n",
              " 'last',\n",
              " 'year']"
            ]
          },
          "metadata": {},
          "execution_count": 10
        }
      ]
    },
    {
      "cell_type": "code",
      "source": [
        "list_numbers = [num1 for num1 in range(1,1001) for num2 in range(2,10) if num1/num2==0 ]\n",
        "print(list_numbers)"
      ],
      "metadata": {
        "colab": {
          "base_uri": "https://localhost:8080/"
        },
        "id": "nNhwrex02eDi",
        "outputId": "88dc2ba6-75a0-4c09-85f8-b8345d5e69df"
      },
      "execution_count": null,
      "outputs": [
        {
          "output_type": "stream",
          "name": "stdout",
          "text": [
            "[]\n"
          ]
        }
      ]
    },
    {
      "cell_type": "code",
      "source": [
        "for i in sentence:\n",
        "  print(i)"
      ],
      "metadata": {
        "colab": {
          "base_uri": "https://localhost:8080/"
        },
        "id": "kK86INxF3Exi",
        "outputId": "31f05c20-4931-4fe5-9eb7-5875234eb6ca"
      },
      "execution_count": null,
      "outputs": [
        {
          "output_type": "stream",
          "name": "stdout",
          "text": [
            "H\n",
            "e\n",
            "l\n",
            "l\n",
            "o\n",
            ",\n",
            " \n",
            "g\n",
            "o\n",
            "o\n",
            "d\n",
            " \n",
            "m\n",
            "o\n",
            "r\n",
            "n\n",
            "i\n",
            "n\n",
            "g\n",
            " \n",
            "f\n",
            "o\n",
            "l\n",
            "k\n",
            "s\n",
            "!\n",
            " \n",
            "T\n",
            "o\n",
            "d\n",
            "a\n",
            "y\n",
            " \n",
            "w\n",
            "e\n",
            " \n",
            "w\n",
            "i\n",
            "l\n",
            "l\n",
            " \n",
            "a\n",
            "n\n",
            "n\n",
            "o\n",
            "u\n",
            "n\n",
            "c\n",
            "e\n",
            " \n",
            "t\n",
            "h\n",
            "e\n",
            " \n",
            "h\n",
            "a\n",
            "l\n",
            "f\n",
            " \n",
            "y\n",
            "e\n",
            "a\n",
            "r\n",
            "l\n",
            "y\n",
            " \n",
            "p\n",
            "e\n",
            "r\n",
            "f\n",
            "o\n",
            "r\n",
            "m\n",
            "a\n",
            "n\n",
            "c\n",
            "e\n",
            " \n",
            "r\n",
            "e\n",
            "s\n",
            "u\n",
            "l\n",
            "t\n",
            "s\n",
            " \n",
            "o\n",
            "f\n",
            " \n",
            "t\n",
            "h\n",
            "e\n",
            " \n",
            "c\n",
            "o\n",
            "m\n",
            "p\n",
            "a\n",
            "n\n",
            "y\n",
            ".\n",
            " \n",
            "D\n",
            "u\n",
            "e\n",
            " \n",
            "t\n",
            "o\n",
            " \n",
            "t\n",
            "h\n",
            "e\n",
            " \n",
            "o\n",
            "n\n",
            "g\n",
            "o\n",
            "i\n",
            "n\n",
            "g\n",
            " \n",
            "C\n",
            "O\n",
            "V\n",
            "I\n",
            "D\n",
            "-\n",
            "1\n",
            "9\n",
            " \n",
            "p\n",
            "a\n",
            "n\n",
            "d\n",
            "e\n",
            "m\n",
            "i\n",
            "c\n",
            ",\n",
            " \n",
            "o\n",
            "u\n",
            "r\n",
            " \n",
            "p\n",
            "r\n",
            "o\n",
            "f\n",
            "i\n",
            "t\n",
            "s\n",
            " \n",
            "h\n",
            "a\n",
            "v\n",
            "e\n",
            " \n",
            "d\n",
            "e\n",
            "c\n",
            "l\n",
            "i\n",
            "n\n",
            "e\n",
            "d\n",
            " \n",
            "b\n",
            "y\n",
            " \n",
            "6\n",
            "0\n",
            "%\n",
            " \n",
            "a\n",
            "s\n",
            " \n",
            "c\n",
            "o\n",
            "m\n",
            "p\n",
            "a\n",
            "r\n",
            "e\n",
            "d\n",
            " \n",
            "t\n",
            "o\n",
            " \n",
            "t\n",
            "h\n",
            "e\n",
            " \n",
            "l\n",
            "a\n",
            "s\n",
            "t\n",
            " \n",
            "y\n",
            "e\n",
            "a\n",
            "r\n"
          ]
        }
      ]
    },
    {
      "cell_type": "code",
      "source": [
        "for i in range(2.0):\n",
        "  print(i)"
      ],
      "metadata": {
        "id": "DgE2EHKg4_gT",
        "colab": {
          "base_uri": "https://localhost:8080/",
          "height": 182
        },
        "outputId": "c5ebca12-48eb-4210-ea5f-661174c5c1b4"
      },
      "execution_count": null,
      "outputs": [
        {
          "output_type": "error",
          "ename": "TypeError",
          "evalue": "ignored",
          "traceback": [
            "\u001b[0;31m---------------------------------------------------------------------------\u001b[0m",
            "\u001b[0;31mTypeError\u001b[0m                                 Traceback (most recent call last)",
            "\u001b[0;32m<ipython-input-1-0c669eb6887e>\u001b[0m in \u001b[0;36m<module>\u001b[0;34m\u001b[0m\n\u001b[0;32m----> 1\u001b[0;31m \u001b[0;32mfor\u001b[0m \u001b[0mi\u001b[0m \u001b[0;32min\u001b[0m \u001b[0mrange\u001b[0m\u001b[0;34m(\u001b[0m\u001b[0;36m2.0\u001b[0m\u001b[0;34m)\u001b[0m\u001b[0;34m:\u001b[0m\u001b[0;34m\u001b[0m\u001b[0;34m\u001b[0m\u001b[0m\n\u001b[0m\u001b[1;32m      2\u001b[0m   \u001b[0mprint\u001b[0m\u001b[0;34m(\u001b[0m\u001b[0mi\u001b[0m\u001b[0;34m)\u001b[0m\u001b[0;34m\u001b[0m\u001b[0;34m\u001b[0m\u001b[0m\n",
            "\u001b[0;31mTypeError\u001b[0m: 'float' object cannot be interpreted as an integer"
          ]
        }
      ]
    },
    {
      "cell_type": "code",
      "source": [
        "x = 'abcd'\n",
        "for i in range(len(x)):\n",
        "  x(i).upper()\n",
        "print(x)"
      ],
      "metadata": {
        "colab": {
          "base_uri": "https://localhost:8080/",
          "height": 217
        },
        "id": "Zsh7YO4PhjCT",
        "outputId": "3a01a473-2e19-411b-c533-a94c7feb0f70"
      },
      "execution_count": null,
      "outputs": [
        {
          "output_type": "error",
          "ename": "TypeError",
          "evalue": "ignored",
          "traceback": [
            "\u001b[0;31m---------------------------------------------------------------------------\u001b[0m",
            "\u001b[0;31mTypeError\u001b[0m                                 Traceback (most recent call last)",
            "\u001b[0;32m<ipython-input-3-01ffe8bb3fe1>\u001b[0m in \u001b[0;36m<module>\u001b[0;34m\u001b[0m\n\u001b[1;32m      1\u001b[0m \u001b[0mx\u001b[0m \u001b[0;34m=\u001b[0m \u001b[0;34m'abcd'\u001b[0m\u001b[0;34m\u001b[0m\u001b[0;34m\u001b[0m\u001b[0m\n\u001b[1;32m      2\u001b[0m \u001b[0;32mfor\u001b[0m \u001b[0mi\u001b[0m \u001b[0;32min\u001b[0m \u001b[0mrange\u001b[0m\u001b[0;34m(\u001b[0m\u001b[0mlen\u001b[0m\u001b[0;34m(\u001b[0m\u001b[0mx\u001b[0m\u001b[0;34m)\u001b[0m\u001b[0;34m)\u001b[0m\u001b[0;34m:\u001b[0m\u001b[0;34m\u001b[0m\u001b[0;34m\u001b[0m\u001b[0m\n\u001b[0;32m----> 3\u001b[0;31m   \u001b[0mx\u001b[0m\u001b[0;34m(\u001b[0m\u001b[0mi\u001b[0m\u001b[0;34m)\u001b[0m\u001b[0;34m.\u001b[0m\u001b[0mupper\u001b[0m\u001b[0;34m(\u001b[0m\u001b[0;34m)\u001b[0m\u001b[0;34m\u001b[0m\u001b[0;34m\u001b[0m\u001b[0m\n\u001b[0m\u001b[1;32m      4\u001b[0m \u001b[0mprint\u001b[0m\u001b[0;34m(\u001b[0m\u001b[0mx\u001b[0m\u001b[0;34m)\u001b[0m\u001b[0;34m\u001b[0m\u001b[0;34m\u001b[0m\u001b[0m\n",
            "\u001b[0;31mTypeError\u001b[0m: 'str' object is not callable"
          ]
        }
      ]
    },
    {
      "cell_type": "code",
      "source": [
        "string = 'my name is x'\n",
        "for i in string:\n",
        "  print(i,end=',')"
      ],
      "metadata": {
        "colab": {
          "base_uri": "https://localhost:8080/"
        },
        "id": "_ts0XIDbh77s",
        "outputId": "cd4b3ea8-8864-4fae-fb75-102a21608f7f"
      },
      "execution_count": null,
      "outputs": [
        {
          "output_type": "stream",
          "name": "stdout",
          "text": [
            "m,y, ,n,a,m,e, ,i,s, ,x,"
          ]
        }
      ]
    },
    {
      "cell_type": "code",
      "source": [
        "for i in range(int(float('inf'))):\n",
        "  print(i)"
      ],
      "metadata": {
        "colab": {
          "base_uri": "https://localhost:8080/",
          "height": 182
        },
        "id": "8F9JQxDYiRTX",
        "outputId": "8f3dac75-2116-4de4-ac5f-9ff0bb2a4b40"
      },
      "execution_count": null,
      "outputs": [
        {
          "output_type": "error",
          "ename": "OverflowError",
          "evalue": "ignored",
          "traceback": [
            "\u001b[0;31m---------------------------------------------------------------------------\u001b[0m",
            "\u001b[0;31mOverflowError\u001b[0m                             Traceback (most recent call last)",
            "\u001b[0;32m<ipython-input-6-70783521e873>\u001b[0m in \u001b[0;36m<module>\u001b[0;34m\u001b[0m\n\u001b[0;32m----> 1\u001b[0;31m \u001b[0;32mfor\u001b[0m \u001b[0mi\u001b[0m \u001b[0;32min\u001b[0m \u001b[0mrange\u001b[0m\u001b[0;34m(\u001b[0m\u001b[0mint\u001b[0m\u001b[0;34m(\u001b[0m\u001b[0mfloat\u001b[0m\u001b[0;34m(\u001b[0m\u001b[0;34m'inf'\u001b[0m\u001b[0;34m)\u001b[0m\u001b[0;34m)\u001b[0m\u001b[0;34m)\u001b[0m\u001b[0;34m:\u001b[0m\u001b[0;34m\u001b[0m\u001b[0;34m\u001b[0m\u001b[0m\n\u001b[0m\u001b[1;32m      2\u001b[0m   \u001b[0mprint\u001b[0m\u001b[0;34m(\u001b[0m\u001b[0mi\u001b[0m\u001b[0;34m)\u001b[0m\u001b[0;34m\u001b[0m\u001b[0;34m\u001b[0m\u001b[0m\n",
            "\u001b[0;31mOverflowError\u001b[0m: cannot convert float infinity to integer"
          ]
        }
      ]
    },
    {
      "cell_type": "code",
      "source": [
        "for i in [1,2,3,4][::-1]:\n",
        "  print(i)"
      ],
      "metadata": {
        "colab": {
          "base_uri": "https://localhost:8080/"
        },
        "id": "XNJ4sM_-imKE",
        "outputId": "d35b4d9f-6974-49de-d6a1-a1dccbd8a038"
      },
      "execution_count": null,
      "outputs": [
        {
          "output_type": "stream",
          "name": "stdout",
          "text": [
            "4\n",
            "3\n",
            "2\n",
            "1\n"
          ]
        }
      ]
    },
    {
      "cell_type": "code",
      "source": [
        "a = {'name':'shubham' , 'sur':'dan'}\n",
        "a.pop('name')"
      ],
      "metadata": {
        "colab": {
          "base_uri": "https://localhost:8080/",
          "height": 36
        },
        "id": "Fzoc4oI3mC4q",
        "outputId": "7b17f446-9535-4718-c516-9f45a69c11c1"
      },
      "execution_count": null,
      "outputs": [
        {
          "output_type": "execute_result",
          "data": {
            "text/plain": [
              "'shubham'"
            ],
            "application/vnd.google.colaboratory.intrinsic+json": {
              "type": "string"
            }
          },
          "metadata": {},
          "execution_count": 15
        }
      ]
    },
    {
      "cell_type": "code",
      "source": [
        "a = {1,'shubham'}"
      ],
      "metadata": {
        "id": "Yrc-U0uXnVYd"
      },
      "execution_count": null,
      "outputs": []
    },
    {
      "cell_type": "code",
      "source": [
        "b = 'shubham'\n",
        "b.replace('shub', 'dand')"
      ],
      "metadata": {
        "colab": {
          "base_uri": "https://localhost:8080/",
          "height": 36
        },
        "id": "xkMkRKmyndXH",
        "outputId": "4a902f78-0795-43b2-bc4b-9093e754a1cc"
      },
      "execution_count": null,
      "outputs": [
        {
          "output_type": "execute_result",
          "data": {
            "text/plain": [
              "'dandham'"
            ],
            "application/vnd.google.colaboratory.intrinsic+json": {
              "type": "string"
            }
          },
          "metadata": {},
          "execution_count": 18
        }
      ]
    },
    {
      "cell_type": "code",
      "source": [
        "list1 = [1,2,5]\n",
        "list1.pop(2)"
      ],
      "metadata": {
        "colab": {
          "base_uri": "https://localhost:8080/"
        },
        "id": "3yweMxeqnrno",
        "outputId": "4798bf4f-10ea-443f-c374-6cef01522722"
      },
      "execution_count": null,
      "outputs": [
        {
          "output_type": "execute_result",
          "data": {
            "text/plain": [
              "5"
            ]
          },
          "metadata": {},
          "execution_count": 19
        }
      ]
    },
    {
      "cell_type": "code",
      "source": [
        "my_string = 'hello world'\n",
        "k = [(i.upper(),len(i)) for i in my_string]\n",
        "print(k)"
      ],
      "metadata": {
        "colab": {
          "base_uri": "https://localhost:8080/"
        },
        "id": "AIMEefLuoZ77",
        "outputId": "b0a1d9c2-29f7-4bca-8237-17112809172e"
      },
      "execution_count": null,
      "outputs": [
        {
          "output_type": "stream",
          "name": "stdout",
          "text": [
            "[('H', 1), ('E', 1), ('L', 1), ('L', 1), ('O', 1), (' ', 1), ('W', 1), ('O', 1), ('R', 1), ('L', 1), ('D', 1)]\n"
          ]
        }
      ]
    },
    {
      "cell_type": "code",
      "source": [
        "a = [1,2]\n",
        "b=[3,4]\n",
        "for i in zip(a,b):\n",
        "  print(i)"
      ],
      "metadata": {
        "colab": {
          "base_uri": "https://localhost:8080/"
        },
        "id": "BbCHz9qEsENC",
        "outputId": "72d6023f-77cd-4e2d-fa88-76188adcceaf"
      },
      "execution_count": null,
      "outputs": [
        {
          "output_type": "stream",
          "name": "stdout",
          "text": [
            "(1, 3)\n",
            "(2, 4)\n"
          ]
        }
      ]
    },
    {
      "cell_type": "code",
      "source": [
        "a = 5\n",
        "b = 6\n",
        "temp = a\n",
        "a=b\n",
        "b=temp"
      ],
      "metadata": {
        "id": "QJ-fYGcatF5K"
      },
      "execution_count": null,
      "outputs": []
    },
    {
      "cell_type": "code",
      "source": [
        "print(a)\n",
        "print(b)"
      ],
      "metadata": {
        "colab": {
          "base_uri": "https://localhost:8080/"
        },
        "id": "9RDBHu9qu87G",
        "outputId": "73d5a6d2-fa02-42f4-da44-9b1cae87b78d"
      },
      "execution_count": null,
      "outputs": [
        {
          "output_type": "stream",
          "name": "stdout",
          "text": [
            "6\n",
            "5\n"
          ]
        }
      ]
    },
    {
      "cell_type": "code",
      "source": [],
      "metadata": {
        "id": "fiPhl2Pevzr6"
      },
      "execution_count": null,
      "outputs": []
    }
  ]
}